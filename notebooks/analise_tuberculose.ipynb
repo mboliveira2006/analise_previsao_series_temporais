{
 "metadata": {
  "language_info": {
   "codemirror_mode": {
    "name": "ipython",
    "version": 3
   },
   "file_extension": ".py",
   "mimetype": "text/x-python",
   "name": "python",
   "nbconvert_exporter": "python",
   "pygments_lexer": "ipython3",
   "version": "3.9.1-final"
  },
  "orig_nbformat": 2,
  "kernelspec": {
   "name": "python3",
   "display_name": "Python 3.9.1 64-bit",
   "metadata": {
    "interpreter": {
     "hash": "ea1ded3e746f6b3403ac712ed5442b17be4b047dedb3bbbd53e9fe06dc702e97"
    }
   }
  }
 },
 "nbformat": 4,
 "nbformat_minor": 2,
 "cells": [
  {
   "cell_type": "code",
   "execution_count": null,
   "metadata": {},
   "outputs": [],
   "source": [
    "import pandas as pd\n",
    "import seaborn as sns\n",
    "import matplotlib.pyplot as plt\n",
    "import numpy as np\n",
    "from statsmodels.tsa.seasonal import seasonal_decompose\n",
    "from statsmodels.graphics.tsaplots import plot_acf, plot_pacf\n",
    "\n",
    "#from pylab import rcParams \n",
    "\n",
    "from sklearn.metrics import mean_squared_log_error\n",
    "from sklearn.ensemble import RandomForestRegressor\n",
    "from lightgbm import LGBMRegressor\n",
    "\n",
    "import warnings"
   ]
  },
  {
   "cell_type": "code",
   "execution_count": null,
   "metadata": {},
   "outputs": [],
   "source": [
    "def plotar_grafico(var_data, var_x, var_y, var_title, var_media_movel=\"\"):\n",
    "    plt.figure(figsize=(15,5))\n",
    "\n",
    "    sns.lineplot(x=var_x, y=var_y, data=var_data[:50], palette=\"tab10\", linewidth=1.5)\n",
    "\n",
    "    if var_media_movel != \"\":\n",
    "        sns.lineplot(x='Data', y= var_media_movel, data= var_data[:50])\n",
    "\n",
    "    plt.title(var_title)\n",
    "    plt.xticks(rotation= 30)\n",
    "    plt.show()"
   ]
  },
  {
   "cell_type": "code",
   "execution_count": null,
   "metadata": {},
   "outputs": [],
   "source": [
    "url_file = 'E:/DADOS/Marcelo/Bootcamp/DS/analise_previsao_series_temporais/dados/A105613189_28_143_208.csv'"
   ]
  },
  {
   "cell_type": "code",
   "execution_count": null,
   "metadata": {},
   "outputs": [],
   "source": [
    "dados = pd.read_csv(url_file, encoding='ISO-8859-1', sep=';', skiprows=3, skipfooter=16, engine='python')\n",
    "dados.head()"
   ]
  },
  {
   "cell_type": "code",
   "execution_count": null,
   "metadata": {},
   "outputs": [],
   "source": [
    "dados = dados.drop(\"Total\",axis=1)\n",
    "dados = dados.drop(19,axis=0)"
   ]
  },
  {
   "cell_type": "code",
   "execution_count": null,
   "metadata": {},
   "outputs": [],
   "source": [
    "dados_time_series = dados.melt(id_vars=\"Ano Diagnóstico\", value_name=\"Casos\", var_name=\"Mes\")\n",
    "\n",
    "dados_time_series['Data'] = dados_time_series[\"Ano Diagnóstico\"] + \"-\" + dados_time_series[\"Mes\"]\n"
   ]
  },
  {
   "cell_type": "code",
   "execution_count": null,
   "metadata": {},
   "outputs": [],
   "source": [
    "dados_time_series.head()"
   ]
  },
  {
   "cell_type": "code",
   "execution_count": null,
   "metadata": {},
   "outputs": [],
   "source": [
    "plt.figure(figsize=(15,5))\n",
    "\n",
    "sns.lineplot(x='Data', y='Casos', data=dados_time_series[:30])\n",
    "\n",
    "plt.xticks(rotation= 90)\n",
    "plt.show()"
   ]
  },
  {
   "cell_type": "code",
   "execution_count": null,
   "metadata": {},
   "outputs": [],
   "source": [
    "dados_time_series.info()"
   ]
  },
  {
   "cell_type": "code",
   "execution_count": null,
   "metadata": {},
   "outputs": [],
   "source": [
    "#dados_time_series['data_new'] = dados_time_series['data'].map(str) + '-01'"
   ]
  },
  {
   "cell_type": "code",
   "execution_count": null,
   "metadata": {},
   "outputs": [],
   "source": [
    "meses_dict = {'Jan':'Jan',\n",
    "                'Fev':'Feb',\n",
    "                'Mar':'Mar',\n",
    "                'Abr':'Apr',\n",
    "                'Mai':'May',\n",
    "                'Jun':'Jun',\n",
    "                'Jul':'Jul',\n",
    "                'Ago':'Aug',\n",
    "                'Set':'Sep',\n",
    "                'Out':'Oct',\n",
    "                'Nov':'Nov',\n",
    "                'Dez':'Dec'}"
   ]
  },
  {
   "cell_type": "code",
   "execution_count": null,
   "metadata": {},
   "outputs": [],
   "source": [
    "meses_dict_number = {'Jan':1,\n",
    "                'Feb':2,\n",
    "                'Mar':3,\n",
    "                'Apr':4,\n",
    "                'May':5,\n",
    "                'Jun':6,\n",
    "                'Jul':7,\n",
    "                'Aug':8,\n",
    "                'Sep':9,\n",
    "                'Oct':10,\n",
    "                'Nov':11,\n",
    "                'Dec':12}"
   ]
  },
  {
   "cell_type": "code",
   "execution_count": null,
   "metadata": {},
   "outputs": [],
   "source": [
    "dados_time_series['Mes'] = dados_time_series['Mes'].map(meses_dict)"
   ]
  },
  {
   "cell_type": "code",
   "execution_count": null,
   "metadata": {},
   "outputs": [],
   "source": [
    "dados_time_series.sample(5)"
   ]
  },
  {
   "cell_type": "code",
   "execution_count": null,
   "metadata": {},
   "outputs": [],
   "source": [
    "dados_time_series['Data'] = dados_time_series[\"Ano Diagnóstico\"] + \"-\" + dados_time_series[\"Mes\"]"
   ]
  },
  {
   "cell_type": "code",
   "execution_count": null,
   "metadata": {},
   "outputs": [],
   "source": [
    "dados_time_series['Data'] = pd.to_datetime(dados_time_series['Data'])"
   ]
  },
  {
   "cell_type": "code",
   "execution_count": null,
   "metadata": {},
   "outputs": [],
   "source": [
    "#dados_time_series['Mes'] = dados_time_series['Data'].map(dados_time_series['Data'].dt.month)"
   ]
  },
  {
   "cell_type": "code",
   "execution_count": null,
   "metadata": {},
   "outputs": [],
   "source": [
    "dados_time_series['Mes'] = dados_time_series['Mes'].map(meses_dict_number)\n"
   ]
  },
  {
   "cell_type": "code",
   "execution_count": null,
   "metadata": {},
   "outputs": [],
   "source": [
    "dados_time_series = dados_time_series[['Data','Casos','Mes']]"
   ]
  },
  {
   "cell_type": "code",
   "execution_count": null,
   "metadata": {},
   "outputs": [],
   "source": [
    "plotar_grafico(dados_time_series, 'Data', 'Casos', 'Número de casos de tuberculose - Ano do Diagnóstico')"
   ]
  },
  {
   "cell_type": "code",
   "execution_count": null,
   "metadata": {},
   "outputs": [],
   "source": [
    "#ordenar o dataset pela data\n",
    "dados_time_series =  dados_time_series.sort_values(by=['Data'])\n",
    "\n",
    "dados_time_series = dados_time_series.reset_index(drop= True)"
   ]
  },
  {
   "cell_type": "code",
   "execution_count": null,
   "metadata": {},
   "outputs": [],
   "source": [
    "dados_time_series.head()"
   ]
  },
  {
   "cell_type": "code",
   "execution_count": null,
   "metadata": {},
   "outputs": [],
   "source": [
    "dados_time_series['MM_3'] = dados_time_series['Casos'].rolling(3).mean()"
   ]
  },
  {
   "cell_type": "code",
   "execution_count": null,
   "metadata": {},
   "outputs": [],
   "source": [
    "dados_time_series['MM_6'] = dados_time_series['Casos'].rolling(6).mean()"
   ]
  },
  {
   "cell_type": "code",
   "execution_count": null,
   "metadata": {},
   "outputs": [],
   "source": [
    "dados_time_series['MM_3c'] = dados_time_series['Casos'].rolling(3, center= True).mean()"
   ]
  },
  {
   "cell_type": "code",
   "execution_count": null,
   "metadata": {},
   "outputs": [],
   "source": [
    "plotar_grafico(dados_time_series, 'Data', 'Casos', 'Número de casos de tuberculose - Ano do Diagnóstico','MM_3')"
   ]
  },
  {
   "cell_type": "code",
   "execution_count": null,
   "metadata": {},
   "outputs": [],
   "source": [
    "plotar_grafico(dados_time_series, 'Data', 'Casos', 'Número de casos de tuberculose - Ano do Diagnóstico','MM_3c')"
   ]
  },
  {
   "cell_type": "code",
   "execution_count": null,
   "metadata": {},
   "outputs": [],
   "source": [
    "plotar_grafico(dados_time_series, 'Data', 'Casos', 'Número de casos de tuberculose - Ano do Diagnóstico','MM_6')"
   ]
  },
  {
   "cell_type": "code",
   "execution_count": null,
   "metadata": {},
   "outputs": [],
   "source": [
    "sns.lineplot(x='Data', y='Casos', data=dados_time_series[:12])"
   ]
  },
  {
   "cell_type": "code",
   "execution_count": null,
   "metadata": {},
   "outputs": [],
   "source": [
    "sns.lineplot(x='Data', y='Casos', data=dados_time_series[12:24])"
   ]
  },
  {
   "cell_type": "code",
   "execution_count": null,
   "metadata": {},
   "outputs": [],
   "source": [
    "dados_time_series['Ano'] = dados_time_series['Data'].dt.year\n",
    "dados_time_series['Mes'] = dados_time_series['Data'].dt.month\n"
   ]
  },
  {
   "cell_type": "code",
   "execution_count": null,
   "metadata": {},
   "outputs": [],
   "source": [
    "sns.lineplot(x='Mes', y='Casos', data=dados_time_series.query(\"Ano in[2019,2018,2017,2016]\"), hue='Ano')"
   ]
  },
  {
   "cell_type": "code",
   "execution_count": null,
   "metadata": {},
   "outputs": [],
   "source": [
    "dados_time_series = dados_time_series.set_index('Data')"
   ]
  },
  {
   "cell_type": "code",
   "execution_count": null,
   "metadata": {},
   "outputs": [],
   "source": [
    "dados_time_series"
   ]
  },
  {
   "cell_type": "code",
   "execution_count": null,
   "metadata": {},
   "outputs": [],
   "source": [
    "decomposicao =  seasonal_decompose(dados_time_series['Casos'])"
   ]
  },
  {
   "cell_type": "code",
   "execution_count": null,
   "metadata": {},
   "outputs": [],
   "source": [
    "decomposicao.plot();\n"
   ]
  },
  {
   "cell_type": "code",
   "execution_count": null,
   "metadata": {},
   "outputs": [],
   "source": [
    "decomposicao =  seasonal_decompose(dados_time_series['Casos'], model='multiplicative')\n",
    "decomposicao.plot();"
   ]
  },
  {
   "cell_type": "code",
   "execution_count": null,
   "metadata": {},
   "outputs": [],
   "source": [
    "url_passageiros = 'E:/DADOS/Marcelo/Bootcamp/DS/analise_previsao_series_temporais/dados/AirPassengers.csv'\n",
    "dados_passengers = pd.read_csv(url_passageiros)\n",
    "dados_passengers['Month'] =  pd.to_datetime(dados_passengers['Month'])\n",
    "dados_passengers.info()"
   ]
  },
  {
   "cell_type": "code",
   "execution_count": null,
   "metadata": {},
   "outputs": [],
   "source": [
    "sns.lineplot(x ='Month', y ='#Passengers', data = dados_passengers)"
   ]
  },
  {
   "cell_type": "code",
   "execution_count": null,
   "metadata": {},
   "outputs": [],
   "source": [
    "dados_passengers"
   ]
  },
  {
   "cell_type": "code",
   "execution_count": null,
   "metadata": {},
   "outputs": [],
   "source": [
    "dados_passengers = dados_passengers.set_index('Month')\n"
   ]
  },
  {
   "cell_type": "code",
   "execution_count": null,
   "metadata": {},
   "outputs": [],
   "source": [
    "decomposicao =  seasonal_decompose(dados_passengers['#Passengers'])\n",
    "decomposicao.plot();"
   ]
  },
  {
   "cell_type": "code",
   "execution_count": null,
   "metadata": {},
   "outputs": [],
   "source": [
    "decomposicao =  seasonal_decompose(dados_passengers['#Passengers'], model='multiplicative')\n",
    "decomposicao.plot(2);"
   ]
  },
  {
   "cell_type": "code",
   "execution_count": null,
   "metadata": {},
   "outputs": [],
   "source": [
    "fig, (ax1,ax2,ax3, ax4) = plt.subplots(4,1, figsize=(15,10))\n",
    "decomposicao.observed.plot(ax=ax1)\n",
    "ax1.set_ylabel('Observed')\n",
    "decomposicao.trend.plot(ax=ax2)\n",
    "ax2.set_ylabel('trend')\n",
    "decomposicao.seasonal.plot(ax=ax3)\n",
    "ax3.set_ylabel('seasonal')\n",
    "decomposicao.resid.plot(ax=ax4)\n",
    "ax4.set_ylabel('resid')\n",
    "fig.axes[0].set_title('Decomposição da série de passageiros.')"
   ]
  },
  {
   "cell_type": "code",
   "execution_count": null,
   "metadata": {},
   "outputs": [],
   "source": [
    "\n",
    "rcParams['figure.figsize'] = 11, 9\n",
    "\n",
    "decomposicao =  seasonal_decompose(dados_passengers['#Passengers'])\n",
    "fig = decomposicao.plot()\n",
    "fig.axes[0].set_title('Decomposição da série de passageiros.')\n",
    "\n",
    "plt.show()"
   ]
  },
  {
   "cell_type": "code",
   "execution_count": null,
   "metadata": {},
   "outputs": [],
   "source": [
    "plot_acf(dados_time_series['Casos']);"
   ]
  },
  {
   "cell_type": "code",
   "execution_count": null,
   "metadata": {},
   "outputs": [],
   "source": [
    "plot_pacf(dados_time_series['Casos']);"
   ]
  },
  {
   "cell_type": "code",
   "execution_count": null,
   "metadata": {},
   "outputs": [],
   "source": [
    "plot_acf(dados_passengers['#Passengers']);\n"
   ]
  },
  {
   "cell_type": "code",
   "execution_count": null,
   "metadata": {},
   "outputs": [],
   "source": [
    "plot_pacf(dados_passengers['#Passengers']);"
   ]
  },
  {
   "cell_type": "code",
   "execution_count": null,
   "metadata": {},
   "outputs": [],
   "source": []
  },
  {
   "source": [
    "## Desafio 01: Transformar os dados em uma série temporal: ANO-MES"
   ],
   "cell_type": "markdown",
   "metadata": {}
  },
  {
   "source": [
    "## Desafio 02: Converter a coluna data para o tipo datetime"
   ],
   "cell_type": "markdown",
   "metadata": {}
  },
  {
   "source": [
    "## Desafio 03: Realizar os mesmos processos de transformação dos dados para a base de dados de Hanseníase"
   ],
   "cell_type": "markdown",
   "metadata": {}
  },
  {
   "source": [
    "## Desafio 04: Deixar o gráfico da série temporal visualmente melhor"
   ],
   "cell_type": "markdown",
   "metadata": {}
  },
  {
   "source": [
    "## Desafio 05: Analisar outras janelas para média móvel."
   ],
   "cell_type": "markdown",
   "metadata": {}
  },
  {
   "source": [
    "## Desafio 06: Realizar sua primeira previsão utilizando médias( toda a série, 3 últimos meses)"
   ],
   "cell_type": "markdown",
   "metadata": {}
  },
  {
   "cell_type": "code",
   "execution_count": null,
   "metadata": {},
   "outputs": [],
   "source": [
    "dados_time_series.tail(1)"
   ]
  },
  {
   "cell_type": "code",
   "execution_count": null,
   "metadata": {},
   "outputs": [],
   "source": [
    "media_total =  dados_time_series.tail(1) #dados_time_series.copy()\n",
    "media_total = media_total.append({'Data': '2020-01-01', 'Casos': dados_time_series['Casos'].mean()}, ignore_index=True)\n",
    "media_total['Data'] = pd.to_datetime(media_total['Data'])\n",
    "media_total"
   ]
  },
  {
   "cell_type": "code",
   "execution_count": null,
   "metadata": {},
   "outputs": [],
   "source": [
    "dados_time_series2 = dados_time_series.copy()\n",
    "dados_time_series2['Casos_Ultimo_Mes'] = dados_time_series2['Casos'].shift()\n",
    "dados_time_series2['Diff_Casos_Ultimo_Mes'] = dados_time_series2['Casos_Ultimo_Mes'].diff()\n",
    "dados_time_series2 = dados_time_series2.dropna()\n",
    "dados_time_series2.head()"
   ]
  },
  {
   "cell_type": "code",
   "execution_count": null,
   "metadata": {},
   "outputs": [],
   "source": [
    "dados_time_series2.tail()"
   ]
  },
  {
   "cell_type": "code",
   "execution_count": null,
   "metadata": {},
   "outputs": [],
   "source": [
    "def rmsle(ytrue, ypred):\n",
    "    return np.sqrt(mean_squared_log_error(ytrue, ypred))"
   ]
  },
  {
   "cell_type": "code",
   "execution_count": null,
   "metadata": {},
   "outputs": [],
   "source": [
    "#dados_time_series2.query('Data >= \"2019-09-01\"')['Mes']\n",
    "dados_time_series2.query('Data >= \"2019-08-01\"')[dados_time_series2['Mes'] < month]"
   ]
  },
  {
   "cell_type": "code",
   "execution_count": null,
   "metadata": {},
   "outputs": [],
   "source": [
    "mean_error = []\n",
    "for month in range(9,12):\n",
    "    train = dados_time_series2.query('Data >= \"2019-08-01\"')[dados_time_series2['Mes'] < month]\n",
    "    val = dados_time_series2.query('Data >= \"2019-08-01\"')[dados_time_series2['Mes'] == month]\n",
    "    \n",
    "    p = val['Casos_Ultimo_Mes'].values\n",
    "    \n",
    "    error = rmsle(val['Casos'].values, p)\n",
    "    print('Mes %d - Erro %.5f' % (month, error))\n",
    "    mean_error.append(error)\n",
    "print('Média Erro = %.5f' % np.mean(mean_error))"
   ]
  },
  {
   "cell_type": "code",
   "execution_count": null,
   "metadata": {},
   "outputs": [],
   "source": [
    "train"
   ]
  },
  {
   "cell_type": "code",
   "execution_count": null,
   "metadata": {},
   "outputs": [],
   "source": [
    "val"
   ]
  },
  {
   "cell_type": "code",
   "execution_count": null,
   "metadata": {},
   "outputs": [],
   "source": [
    "plt.figure(figsize=(15,5))\n",
    "\n",
    "sns.lineplot(x='Data', y='Casos', data=dados_time_series, palette=\"tab10\", linewidth=1.5)\n",
    "plt.plot(media_total.Data, media_total.Casos, 'r--')\n",
    "\n",
    "plt.title('Previsão do próximo mês com uso de médias móveis - Pela média total')\n",
    "plt.xticks(rotation= 30)\n",
    "plt.show()"
   ]
  },
  {
   "cell_type": "code",
   "execution_count": null,
   "metadata": {},
   "outputs": [],
   "source": [
    "media = dados_time_series['Casos'].tail(3).mean()\n",
    "\n",
    "media_ultimos_meses = dados_time_series.tail(1)\n",
    "media_ultimos_meses = media_ultimos_meses.append({'Data': '2020-01-01', 'Casos': media}, ignore_index=True)\n",
    "media_ultimos_meses['Data'] = pd.to_datetime(media_ultimos_meses['Data'])\n",
    "media_ultimos_meses"
   ]
  },
  {
   "cell_type": "code",
   "execution_count": null,
   "metadata": {},
   "outputs": [],
   "source": [
    "plt.figure(figsize=(15,5))\n",
    "\n",
    "sns.lineplot(x='Data', y='Casos', data=dados_time_series, palette=\"tab10\", linewidth=1.5)\n",
    "plt.plot(media_ultimos_meses.Data, media_ultimos_meses.Casos, 'r--')\n",
    "\n",
    "plt.title('Previsão do próximo mês com uso de médias móveis - Últimos 3 mêses')\n",
    "plt.xticks(rotation= 30)\n",
    "plt.show()"
   ]
  },
  {
   "source": [
    "## Desafio 07: Transformar as datas em index e realizar os slices pelas datas"
   ],
   "cell_type": "markdown",
   "metadata": {}
  },
  {
   "cell_type": "code",
   "execution_count": null,
   "metadata": {},
   "outputs": [],
   "source": []
  },
  {
   "source": [
    "## Desafio 08: Formatar os gráficos de decomposição, colocar título e modificar os tamanhos. Realizar a decomposição de outras séries temporais."
   ],
   "cell_type": "markdown",
   "metadata": {}
  },
  {
   "cell_type": "code",
   "execution_count": null,
   "metadata": {},
   "outputs": [],
   "source": [
    "from pylab import rcParams\n",
    "rcParams['figure.figsize'] = 11, 9\n",
    "\n",
    "decomposicao =  seasonal_decompose(dados_passengers['#Passengers'])\n",
    "fig = decomposicao.plot()\n",
    "fig.axes[0].set_title('Decomposição da série de passageiros.')\n",
    "\n",
    "plt.show()"
   ]
  },
  {
   "source": [
    "## Desafio 09: Realizar uma análise de autocorrelação e autocorrelação parcial dos dados de COVID-19"
   ],
   "cell_type": "markdown",
   "metadata": {}
  },
  {
   "cell_type": "code",
   "execution_count": null,
   "metadata": {},
   "outputs": [],
   "source": []
  }
 ]
}