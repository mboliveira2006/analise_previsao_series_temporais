{
 "metadata": {
  "language_info": {
   "codemirror_mode": {
    "name": "ipython",
    "version": 3
   },
   "file_extension": ".py",
   "mimetype": "text/x-python",
   "name": "python",
   "nbconvert_exporter": "python",
   "pygments_lexer": "ipython3",
   "version": "3.9.1-final"
  },
  "orig_nbformat": 2,
  "kernelspec": {
   "name": "python3",
   "display_name": "Python 3.9.1 64-bit",
   "metadata": {
    "interpreter": {
     "hash": "ea1ded3e746f6b3403ac712ed5442b17be4b047dedb3bbbd53e9fe06dc702e97"
    }
   }
  }
 },
 "nbformat": 4,
 "nbformat_minor": 2,
 "cells": [
  {
   "cell_type": "code",
   "execution_count": 1,
   "metadata": {},
   "outputs": [],
   "source": [
    "import pandas as pd"
   ]
  },
  {
   "cell_type": "code",
   "execution_count": 8,
   "metadata": {},
   "outputs": [],
   "source": [
    "url_file = 'E:/DADOS/Marcelo/Bootcamp/DS/analise_previsao_series_temporais/dados/A105613189_28_143_208.csv'"
   ]
  },
  {
   "cell_type": "code",
   "execution_count": 18,
   "metadata": {},
   "outputs": [
    {
     "output_type": "execute_result",
     "data": {
      "text/plain": [
       "  Ano Diagnóstico   Jan   Fev   Mar   Abr   Mai   Jun   Jul   Ago   Set   Out  \\\n",
       "0            2001  8088  6542  8095  7305  7656  6805  6987  8065  6697  7524   \n",
       "1            2002  8013  7346  7961  8771  7784  6713  7746  8330  7654  8200   \n",
       "2            2003  8115  7985  7474  7975  8024  7082  7949  7585  8136  8521   \n",
       "3            2004  7574  6743  8574  8089  7763  7314  7825  8232  7901  8016   \n",
       "4            2005  7432  6748  8441  7958  8019  7781  7282  8391  7690  7186   \n",
       "\n",
       "    Nov   Dez  Total  \n",
       "0  6874  6627  87265  \n",
       "1  7532  6809  92859  \n",
       "2  7624  7303  93773  \n",
       "3  7753  7196  92980  \n",
       "4  7587  7541  92056  "
      ],
      "text/html": "<div>\n<style scoped>\n    .dataframe tbody tr th:only-of-type {\n        vertical-align: middle;\n    }\n\n    .dataframe tbody tr th {\n        vertical-align: top;\n    }\n\n    .dataframe thead th {\n        text-align: right;\n    }\n</style>\n<table border=\"1\" class=\"dataframe\">\n  <thead>\n    <tr style=\"text-align: right;\">\n      <th></th>\n      <th>Ano Diagnóstico</th>\n      <th>Jan</th>\n      <th>Fev</th>\n      <th>Mar</th>\n      <th>Abr</th>\n      <th>Mai</th>\n      <th>Jun</th>\n      <th>Jul</th>\n      <th>Ago</th>\n      <th>Set</th>\n      <th>Out</th>\n      <th>Nov</th>\n      <th>Dez</th>\n      <th>Total</th>\n    </tr>\n  </thead>\n  <tbody>\n    <tr>\n      <th>0</th>\n      <td>2001</td>\n      <td>8088</td>\n      <td>6542</td>\n      <td>8095</td>\n      <td>7305</td>\n      <td>7656</td>\n      <td>6805</td>\n      <td>6987</td>\n      <td>8065</td>\n      <td>6697</td>\n      <td>7524</td>\n      <td>6874</td>\n      <td>6627</td>\n      <td>87265</td>\n    </tr>\n    <tr>\n      <th>1</th>\n      <td>2002</td>\n      <td>8013</td>\n      <td>7346</td>\n      <td>7961</td>\n      <td>8771</td>\n      <td>7784</td>\n      <td>6713</td>\n      <td>7746</td>\n      <td>8330</td>\n      <td>7654</td>\n      <td>8200</td>\n      <td>7532</td>\n      <td>6809</td>\n      <td>92859</td>\n    </tr>\n    <tr>\n      <th>2</th>\n      <td>2003</td>\n      <td>8115</td>\n      <td>7985</td>\n      <td>7474</td>\n      <td>7975</td>\n      <td>8024</td>\n      <td>7082</td>\n      <td>7949</td>\n      <td>7585</td>\n      <td>8136</td>\n      <td>8521</td>\n      <td>7624</td>\n      <td>7303</td>\n      <td>93773</td>\n    </tr>\n    <tr>\n      <th>3</th>\n      <td>2004</td>\n      <td>7574</td>\n      <td>6743</td>\n      <td>8574</td>\n      <td>8089</td>\n      <td>7763</td>\n      <td>7314</td>\n      <td>7825</td>\n      <td>8232</td>\n      <td>7901</td>\n      <td>8016</td>\n      <td>7753</td>\n      <td>7196</td>\n      <td>92980</td>\n    </tr>\n    <tr>\n      <th>4</th>\n      <td>2005</td>\n      <td>7432</td>\n      <td>6748</td>\n      <td>8441</td>\n      <td>7958</td>\n      <td>8019</td>\n      <td>7781</td>\n      <td>7282</td>\n      <td>8391</td>\n      <td>7690</td>\n      <td>7186</td>\n      <td>7587</td>\n      <td>7541</td>\n      <td>92056</td>\n    </tr>\n  </tbody>\n</table>\n</div>"
     },
     "metadata": {},
     "execution_count": 18
    }
   ],
   "source": [
    "dados = pd.read_csv(url_file, encoding='ISO-8859-1', sep=';', skiprows=3, skipfooter=16, engine='python')\n",
    "dados.head()"
   ]
  },
  {
   "cell_type": "code",
   "execution_count": 19,
   "metadata": {},
   "outputs": [
    {
     "output_type": "execute_result",
     "data": {
      "text/plain": [
       "   Ano Diagnóstico     Jan     Fev     Mar     Abr     Mai     Jun     Jul  \\\n",
       "15            2016    7116    6800    8067    7360    7315    7527    6991   \n",
       "16            2017    7481    6803    8680    6780    8091    7394    7225   \n",
       "17            2018    7881    6821    7901    8121    7892    7720    8109   \n",
       "18            2019    8392    7754    7648    8274    8383    7363    8382   \n",
       "19           Total  142969  129386  149875  143199  143264  133444  141800   \n",
       "\n",
       "       Ago     Set     Out     Nov     Dez    Total  \n",
       "15    7702    7030    6588    7039    6672    86207  \n",
       "16    8110    7447    7809    7451    7020    90291  \n",
       "17    8934    7663    8701    7711    6900    94354  \n",
       "18    8239    8143    8592    7615    7220    96005  \n",
       "19  149952  140241  144870  136864  128893  1684757  "
      ],
      "text/html": "<div>\n<style scoped>\n    .dataframe tbody tr th:only-of-type {\n        vertical-align: middle;\n    }\n\n    .dataframe tbody tr th {\n        vertical-align: top;\n    }\n\n    .dataframe thead th {\n        text-align: right;\n    }\n</style>\n<table border=\"1\" class=\"dataframe\">\n  <thead>\n    <tr style=\"text-align: right;\">\n      <th></th>\n      <th>Ano Diagnóstico</th>\n      <th>Jan</th>\n      <th>Fev</th>\n      <th>Mar</th>\n      <th>Abr</th>\n      <th>Mai</th>\n      <th>Jun</th>\n      <th>Jul</th>\n      <th>Ago</th>\n      <th>Set</th>\n      <th>Out</th>\n      <th>Nov</th>\n      <th>Dez</th>\n      <th>Total</th>\n    </tr>\n  </thead>\n  <tbody>\n    <tr>\n      <th>15</th>\n      <td>2016</td>\n      <td>7116</td>\n      <td>6800</td>\n      <td>8067</td>\n      <td>7360</td>\n      <td>7315</td>\n      <td>7527</td>\n      <td>6991</td>\n      <td>7702</td>\n      <td>7030</td>\n      <td>6588</td>\n      <td>7039</td>\n      <td>6672</td>\n      <td>86207</td>\n    </tr>\n    <tr>\n      <th>16</th>\n      <td>2017</td>\n      <td>7481</td>\n      <td>6803</td>\n      <td>8680</td>\n      <td>6780</td>\n      <td>8091</td>\n      <td>7394</td>\n      <td>7225</td>\n      <td>8110</td>\n      <td>7447</td>\n      <td>7809</td>\n      <td>7451</td>\n      <td>7020</td>\n      <td>90291</td>\n    </tr>\n    <tr>\n      <th>17</th>\n      <td>2018</td>\n      <td>7881</td>\n      <td>6821</td>\n      <td>7901</td>\n      <td>8121</td>\n      <td>7892</td>\n      <td>7720</td>\n      <td>8109</td>\n      <td>8934</td>\n      <td>7663</td>\n      <td>8701</td>\n      <td>7711</td>\n      <td>6900</td>\n      <td>94354</td>\n    </tr>\n    <tr>\n      <th>18</th>\n      <td>2019</td>\n      <td>8392</td>\n      <td>7754</td>\n      <td>7648</td>\n      <td>8274</td>\n      <td>8383</td>\n      <td>7363</td>\n      <td>8382</td>\n      <td>8239</td>\n      <td>8143</td>\n      <td>8592</td>\n      <td>7615</td>\n      <td>7220</td>\n      <td>96005</td>\n    </tr>\n    <tr>\n      <th>19</th>\n      <td>Total</td>\n      <td>142969</td>\n      <td>129386</td>\n      <td>149875</td>\n      <td>143199</td>\n      <td>143264</td>\n      <td>133444</td>\n      <td>141800</td>\n      <td>149952</td>\n      <td>140241</td>\n      <td>144870</td>\n      <td>136864</td>\n      <td>128893</td>\n      <td>1684757</td>\n    </tr>\n  </tbody>\n</table>\n</div>"
     },
     "metadata": {},
     "execution_count": 19
    }
   ],
   "source": [
    "dados.tail()"
   ]
  },
  {
   "cell_type": "code",
   "execution_count": null,
   "metadata": {},
   "outputs": [],
   "source": []
  },
  {
   "cell_type": "code",
   "execution_count": null,
   "metadata": {},
   "outputs": [],
   "source": []
  },
  {
   "source": [
    "## Desafio 01: Transformar os dados em uma série temporal: ANO-MES"
   ],
   "cell_type": "markdown",
   "metadata": {}
  },
  {
   "cell_type": "code",
   "execution_count": null,
   "metadata": {},
   "outputs": [],
   "source": []
  },
  {
   "cell_type": "code",
   "execution_count": null,
   "metadata": {},
   "outputs": [],
   "source": []
  }
 ]
}